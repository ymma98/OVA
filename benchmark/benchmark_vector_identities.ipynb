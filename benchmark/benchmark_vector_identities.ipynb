{
 "cells": [
  {
   "cell_type": "code",
   "execution_count": 1,
   "id": "20884859",
   "metadata": {},
   "outputs": [],
   "source": [
    "import sys\n",
    "sys.path.append(\"../\")\n",
    "from OVA import *\n",
    "import sympy as sym\n",
    "sym.init_printing()"
   ]
  },
  {
   "cell_type": "markdown",
   "id": "803a87ac",
   "metadata": {},
   "source": [
    "Test some vector identities. The default coordinate system is Cartesian."
   ]
  },
  {
   "cell_type": "code",
   "execution_count": 2,
   "id": "2eba7d4a",
   "metadata": {},
   "outputs": [],
   "source": [
    "x, y, z = sym.symbols('x, y, z')\n",
    "coord = CoordinateSystem(r=x, t=y, p=z)\n",
    "Ax = sym.Function('Ax')(x,y,z); Ay = sym.Function('Ay')(x,y,z); Az = sym.Function('Az')(x,y,z);\n",
    "A = [Ax, Ay, Az]\n",
    "Bx = sym.Function('Bx')(x,y,z); By = sym.Function('By')(x,y,z); Bz = sym.Function('Bz')(x,y,z);\n",
    "B = [Bx, By, Bz]\n",
    "Cx = sym.Function('Cx')(x,y,z); Cy = sym.Function('Cy')(x,y,z); Cz = sym.Function('Cz')(x,y,z);\n",
    "C = [Cx, Cy, Cz]\n",
    "phi = sym.Function('phi')(x,y,z)"
   ]
  },
  {
   "cell_type": "markdown",
   "id": "d10bb828",
   "metadata": {},
   "source": [
    "$\\vec{A} \\cdot (\\vec{B} \\times \\vec{C})$ - $\\vec{A} \\times \\vec{B} \\cdot \\vec{C}$= 0"
   ]
  },
  {
   "cell_type": "code",
   "execution_count": 3,
   "id": "8c6bedb7",
   "metadata": {},
   "outputs": [
    {
     "data": {
      "image/png": "[encoded data removed]",
      "text/latex": [
       "$\\displaystyle 0$"
      ],
      "text/plain": [
       "0"
      ]
     },
     "execution_count": 3,
     "metadata": {},
     "output_type": "execute_result"
    }
   ],
   "source": [
    "sym.simplify(coord.dot(A, coord.cross(B,C)) - coord.dot(coord.cross(A,B), C))"
   ]
  },
  {
   "cell_type": "markdown",
   "id": "208e00d3",
   "metadata": {},
   "source": [
    "$\\vec{A}\\times (\\vec{B} \\times \\vec{C}) + \\vec{B}\\times(\\vec{C} \\times \\vec{A}) + \\vec{C} \\times (\\vec{A} \\times \\vec{B}) = 0$"
   ]
  },
  {
   "cell_type": "code",
   "execution_count": 4,
   "id": "6d97b5df",
   "metadata": {},
   "outputs": [
    {
     "data": {
      "image/png": "[encoded data removed]",
      "text/latex": [
       "$\\displaystyle \\left[\\begin{matrix}0 & 0 & 0\\end{matrix}\\right]$"
      ],
      "text/plain": [
       "[0  0  0]"
      ]
     },
     "execution_count": 4,
     "metadata": {},
     "output_type": "execute_result"
    }
   ],
   "source": [
    "res = sym.Array(coord.cross(A, coord.cross(B, C))) + sym.Array(coord.cross(B, coord.cross(C, A))) + sym.Array(coord.cross(C, coord.cross(A, B)))\n",
    "res.applyfunc(sym.simplify)"
   ]
  },
  {
   "cell_type": "markdown",
   "id": "563ddd0a",
   "metadata": {},
   "source": [
    "$\\nabla \\cdot (\\nabla \\times \\vec{A}) = 0$"
   ]
  },
  {
   "cell_type": "code",
   "execution_count": 5,
   "id": "9cc2c036",
   "metadata": {},
   "outputs": [
    {
     "data": {
      "image/png": "[encoded data removed]",
      "text/latex": [
       "$\\displaystyle 0$"
      ],
      "text/plain": [
       "0"
      ]
     },
     "execution_count": 5,
     "metadata": {},
     "output_type": "execute_result"
    }
   ],
   "source": [
    "sym.simplify(coord.div(coord.curl(A)))"
   ]
  },
  {
   "cell_type": "markdown",
   "id": "33afdf36",
   "metadata": {},
   "source": [
    "$\\nabla ^2 \\phi = \\Delta \\phi = \\nabla \\cdot \\nabla \\phi$"
   ]
  },
  {
   "cell_type": "code",
   "execution_count": 6,
   "id": "bb58725f",
   "metadata": {},
   "outputs": [
    {
     "data": {
      "image/png": "[encoded data removed]",
      "text/latex": [
       "$\\displaystyle 0$"
      ],
      "text/plain": [
       "0"
      ]
     },
     "execution_count": 6,
     "metadata": {},
     "output_type": "execute_result"
    }
   ],
   "source": [
    "sym.simplify(coord.Laplacian(phi) - coord.div(coord.grad(phi)))"
   ]
  },
  {
   "cell_type": "markdown",
   "id": "3b00daef",
   "metadata": {},
   "source": [
    "$\\vec{A} \\times (\\nabla \\times \\vec{B})-\\left[ \\nabla \\vec{B} \\cdot \\vec{A} - (\\vec{A} \\cdot \\nabla) \\vec{B} \\right] = 0$"
   ]
  },
  {
   "cell_type": "code",
   "execution_count": 7,
   "id": "a8411f73",
   "metadata": {},
   "outputs": [
    {
     "data": {
      "image/png": "[encoded data removed]",
      "text/latex": [
       "$\\displaystyle \\left[\\begin{matrix}0 & 0 & 0\\end{matrix}\\right]$"
      ],
      "text/plain": [
       "[0  0  0]"
      ]
     },
     "execution_count": 7,
     "metadata": {},
     "output_type": "execute_result"
    }
   ],
   "source": [
    "temp_1 = sym.Array(coord.cross(A, coord.curl(B)))\n",
    "temp_2 = sym.Array(coord.dot(coord.grad(B), A))\n",
    "temp_3 = sym.Array(coord.dot(A, coord.grad(B)))\n",
    "res = temp_1 - (temp_2 - temp_3)\n",
    "res.applyfunc(sym.simplify)"
   ]
  },
  {
   "cell_type": "markdown",
   "id": "0b359507",
   "metadata": {},
   "source": [
    "$\\nabla \\cdot (\\phi \\vec{A}) -( \\phi \\nabla \\cdot \\vec{A} + \\vec{A} \\cdot \\nabla \\phi ) = 0$ "
   ]
  },
  {
   "cell_type": "code",
   "execution_count": 8,
   "id": "97ce94b9",
   "metadata": {},
   "outputs": [
    {
     "data": {
      "image/png": "[encoded data removed]",
      "text/latex": [
       "$\\displaystyle 0$"
      ],
      "text/plain": [
       "0"
      ]
     },
     "execution_count": 8,
     "metadata": {},
     "output_type": "execute_result"
    }
   ],
   "source": [
    "temp_pA = [phi * k for k in A]  # phi * \\vec{A}\n",
    "sym.simplify(coord.div(temp_pA) - (phi * coord.div(A) + coord.dot(A, coord.grad(phi))))"
   ]
  },
  {
   "cell_type": "markdown",
   "id": "4b56a5b0",
   "metadata": {},
   "source": [
    "$\\nabla \\times (\\phi \\vec{A}) - (\\phi \\nabla \\times \\vec{A} + \\nabla \\phi \\times \\vec{A}) = 0$"
   ]
  },
  {
   "cell_type": "code",
   "execution_count": 9,
   "id": "5419a2d1",
   "metadata": {},
   "outputs": [
    {
     "data": {
      "image/png": "[encoded data removed]",
      "text/latex": [
       "$\\displaystyle \\left[\\begin{matrix}0 & 0 & 0\\end{matrix}\\right]$"
      ],
      "text/plain": [
       "[0  0  0]"
      ]
     },
     "execution_count": 9,
     "metadata": {},
     "output_type": "execute_result"
    }
   ],
   "source": [
    "temp_pA = [phi * k for k in A]\n",
    "temp_1 = sym.Array(coord.curl(temp_pA))\n",
    "temp_2 = sym.Array([phi * k for k in (coord.curl(A))])\n",
    "temp_3 = sym.Array(coord.cross(coord.grad(phi), A))\n",
    "sym.simplify(temp_1 - (temp_2 + temp_3))"
   ]
  },
  {
   "cell_type": "code",
   "execution_count": null,
   "id": "8e3dcf69",
   "metadata": {},
   "outputs": [],
   "source": []
  }
 ],
 "metadata": {
  "kernelspec": {
   "display_name": "Python 3 (ipykernel)",
   "language": "python",
   "name": "python3"
  },
  "language_info": {
   "codemirror_mode": {
    "name": "ipython",
    "version": 3
   },
   "file_extension": ".py",
   "mimetype": "text/x-python",
   "name": "python",
   "nbconvert_exporter": "python",
   "pygments_lexer": "ipython3",
   "version": "3.9.7"
  }
 },
 "nbformat": 4,
 "nbformat_minor": 5
}
