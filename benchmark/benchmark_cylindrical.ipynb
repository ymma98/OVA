{
 "cells": [
  {
   "cell_type": "code",
   "execution_count": 1,
   "id": "0d70af14",
   "metadata": {},
   "outputs": [],
   "source": [
    "import sys\n",
    "sys.path.append(\"../\")\n",
    "from OVA import *\n",
    "import sympy as sym\n",
    "sym.init_printing()"
   ]
  },
  {
   "cell_type": "code",
   "execution_count": 2,
   "id": "5acaf889",
   "metadata": {},
   "outputs": [],
   "source": [
    "r = sym.Symbol('r', positive=True)\n",
    "t, z = sym.symbols('theta, z')\n",
    "cylind = CoordinateSystem(r=r, t=t, p=z, coordinate='Cylindrical')"
   ]
  },
  {
   "cell_type": "code",
   "execution_count": 3,
   "id": "da67ace7",
   "metadata": {},
   "outputs": [
    {
     "data": {
      "text/latex": [
       "$\\displaystyle \\left[ \\operatorname{U_{r}}{\\left(r,\\theta,z \\right)}, \\  \\operatorname{U_{\\theta}}{\\left(r,\\theta,z \\right)}, \\  \\operatorname{U_{z}}{\\left(r,\\theta,z \\right)}\\right]$"
      ],
      "text/plain": [
       "[Uᵣ(r, θ, z), Uₜₕₑₜₐ(r, θ, z), U_z(r, θ, z)]"
      ]
     },
     "metadata": {},
     "output_type": "display_data"
    },
    {
     "data": {
      "text/latex": [
       "$\\displaystyle \\phi{\\left(r,\\theta,z \\right)}$"
      ],
      "text/plain": [
       "φ(r, θ, z)"
      ]
     },
     "metadata": {},
     "output_type": "display_data"
    },
    {
     "data": {
      "text/latex": [
       "$\\displaystyle \\left[\\begin{matrix}\\operatorname{T_{rr}}{\\left(r,\\theta,z \\right)} & \\operatorname{T_{rt}}{\\left(r,\\theta,z \\right)} & \\operatorname{T_{rz}}{\\left(r,\\theta,z \\right)}\\\\\\operatorname{T_{tr}}{\\left(r,\\theta,z \\right)} & \\operatorname{T_{tt}}{\\left(r,\\theta,z \\right)} & \\operatorname{T_{tz}}{\\left(r,\\theta,z \\right)}\\\\\\operatorname{T_{zr}}{\\left(r,\\theta,z \\right)} & \\operatorname{T_{zt}}{\\left(r,\\theta,z \\right)} & \\operatorname{T_{zz}}{\\left(r,\\theta,z \\right)}\\end{matrix}\\right]$"
      ],
      "text/plain": [
       "⎡T_{rr}(r, θ, z)  T_{rt}(r, θ, z)  T_{rz}(r, θ, z)⎤\n",
       "⎢                                                 ⎥\n",
       "⎢T_{tr}(r, θ, z)  T_{tt}(r, θ, z)  T_{tz}(r, θ, z)⎥\n",
       "⎢                                                 ⎥\n",
       "⎣T_{zr}(r, θ, z)  T_{zt}(r, θ, z)  T_{zz}(r, θ, z)⎦"
      ]
     },
     "metadata": {},
     "output_type": "display_data"
    }
   ],
   "source": [
    "# vector U\n",
    "Ur = sym.Function('U_r')(r, t, z); Ut = sym.Function('U_theta')(r, t, z); Uz = sym.Function('U_z')(r, t, z);\n",
    "U = [Ur, Ut, Uz]\n",
    "# scalar function phi\n",
    "phi = sym.Function('phi')(r, t, z)\n",
    "# 2-rank tensor T\n",
    "Trr = sym.Function('T_{rr}')(r, t, z); Trt = sym.Function('T_{rt}')(r, t, z); Trz = sym.Function('T_{rz}')(r, t, z);\n",
    "Ttr = sym.Function('T_{tr}')(r, t, z); Ttt = sym.Function('T_{tt}')(r, t, z); Ttz = sym.Function('T_{tz}')(r, t, z);\n",
    "Tzr = sym.Function('T_{zr}')(r, t, z); Tzt = sym.Function('T_{zt}')(r, t, z); Tzz = sym.Function('T_{zz}')(r, t, z);\n",
    "T = sym.Matrix([[Trr, Trt, Trz], [Ttr, Ttt, Ttz], [Tzr, Tzt, Tzz]])\n",
    "display(U)\n",
    "display(phi)\n",
    "display(T)"
   ]
  },
  {
   "cell_type": "markdown",
   "id": "a03ffeba",
   "metadata": {},
   "source": [
    "### Grad of function $\\phi (r,\\theta, z)$:\n",
    "\n",
    "$\\nabla \\phi = \\hat{e}_r \\frac{\\partial \\phi}{\\partial r} + \\hat{e}_\\theta \\frac{1}{r} \\frac{\\partial \\phi}{\\partial \\theta} + \\hat{e}_z \\frac{\\partial \\phi}{\\partial z}$"
   ]
  },
  {
   "cell_type": "code",
   "execution_count": 4,
   "id": "fa27f12f",
   "metadata": {},
   "outputs": [
    {
     "data": {
      "text/latex": [
       "$\\displaystyle \\left[ \\frac{\\partial}{\\partial r} \\phi{\\left(r,\\theta,z \\right)}, \\  \\frac{\\frac{\\partial}{\\partial \\theta} \\phi{\\left(r,\\theta,z \\right)}}{r}, \\  \\frac{\\partial}{\\partial z} \\phi{\\left(r,\\theta,z \\right)}\\right]$"
      ],
      "text/plain": [
       "⎡                ∂                             ⎤\n",
       "⎢                ──(φ(r, θ, z))                ⎥\n",
       "⎢∂               ∂θ              ∂             ⎥\n",
       "⎢──(φ(r, θ, z)), ──────────────, ──(φ(r, θ, z))⎥\n",
       "⎣∂r                    r         ∂z            ⎦"
      ]
     },
     "execution_count": 4,
     "metadata": {},
     "output_type": "execute_result"
    }
   ],
   "source": [
    "cylind.grad(phi)"
   ]
  },
  {
   "cell_type": "markdown",
   "id": "e09f2305",
   "metadata": {},
   "source": [
    "### Grad of vector $\\vec{u}$:\n",
    "\n",
    "$$\n",
    "\\begin{aligned}\n",
    "\\nabla \\vec{u} &=  \\frac{\\partial U_r}{\\partial r} \\hat{e}_r \\hat{e}_r+\\frac{\\partial U_\\theta}{\\partial r} \\hat{e}_r \\hat{e}_\\theta+\\frac{\\partial U_z}{\\partial r} \\hat{e}_r \\hat{e}_z \\\\\n",
    "        &\\quad \\quad \\quad +\\left(\\frac{1}{r} \\frac{\\partial U_r}{\\partial \\theta}-\\frac{U_\\theta}{r}\\right) \\hat{e}_\\theta \\hat{e}_r\n",
    "        +\\left(\\frac{1}{r} \\frac{\\partial U_\\theta}{\\partial \\theta}+\\frac{U_r}{r}\\right) \\hat{e}_\\theta \\hat{e}_\\theta+\\frac{1}{r} \\frac{\\partial U_z}{\\partial \\theta} \\hat{e}_\\theta \\hat{e}_z \\\\\n",
    "        &\\quad \\quad \\quad +\\frac{\\partial U_r}{\\partial z} \\hat{e}_z \\hat{e}_r+\\frac{\\partial U_\\theta}{\\partial z} \\hat{e}_z \\hat{e}_\\theta+\\frac{\\partial U_z}{\\partial z} \\hat{e}_z \\hat{e}_z\n",
    "\\end{aligned}\n",
    "$$ "
   ]
  },
  {
   "cell_type": "code",
   "execution_count": 5,
   "id": "2ea27cd7",
   "metadata": {},
   "outputs": [
    {
     "data": {
      "text/latex": [
       "$\\displaystyle \\left[\\begin{matrix}\\frac{\\partial}{\\partial r} \\operatorname{U_{r}}{\\left(r,\\theta,z \\right)} & \\frac{\\partial}{\\partial r} \\operatorname{U_{\\theta}}{\\left(r,\\theta,z \\right)} & \\frac{\\partial}{\\partial r} \\operatorname{U_{z}}{\\left(r,\\theta,z \\right)}\\\\\\frac{- \\operatorname{U_{\\theta}}{\\left(r,\\theta,z \\right)} + \\frac{\\partial}{\\partial \\theta} \\operatorname{U_{r}}{\\left(r,\\theta,z \\right)}}{r} & \\frac{\\operatorname{U_{r}}{\\left(r,\\theta,z \\right)} + \\frac{\\partial}{\\partial \\theta} \\operatorname{U_{\\theta}}{\\left(r,\\theta,z \\right)}}{r} & \\frac{\\frac{\\partial}{\\partial \\theta} \\operatorname{U_{z}}{\\left(r,\\theta,z \\right)}}{r}\\\\\\frac{\\partial}{\\partial z} \\operatorname{U_{r}}{\\left(r,\\theta,z \\right)} & \\frac{\\partial}{\\partial z} \\operatorname{U_{\\theta}}{\\left(r,\\theta,z \\right)} & \\frac{\\partial}{\\partial z} \\operatorname{U_{z}}{\\left(r,\\theta,z \\right)}\\end{matrix}\\right]$"
      ],
      "text/plain": [
       "⎡         ∂                                 ∂                           ∂               ⎤\n",
       "⎢         ──(Uᵣ(r, θ, z))                   ──(Uₜₕₑₜₐ(r, θ, z))         ──(U_z(r, θ, z))⎥\n",
       "⎢         ∂r                                ∂r                          ∂r              ⎥\n",
       "⎢                                                                                       ⎥\n",
       "⎢                   ∂                              ∂                    ∂               ⎥\n",
       "⎢-Uₜₕₑₜₐ(r, θ, z) + ──(Uᵣ(r, θ, z))  Uᵣ(r, θ, z) + ──(Uₜₕₑₜₐ(r, θ, z))  ──(U_z(r, θ, z))⎥\n",
       "⎢                   ∂θ                             ∂θ                   ∂θ              ⎥\n",
       "⎢──────────────────────────────────  ─────────────────────────────────  ────────────────⎥\n",
       "⎢                r                                   r                         r        ⎥\n",
       "⎢                                                                                       ⎥\n",
       "⎢         ∂                                 ∂                           ∂               ⎥\n",
       "⎢         ──(Uᵣ(r, θ, z))                   ──(Uₜₕₑₜₐ(r, θ, z))         ──(U_z(r, θ, z))⎥\n",
       "⎣         ∂z                                ∂z                          ∂z              ⎦"
      ]
     },
     "execution_count": 5,
     "metadata": {},
     "output_type": "execute_result"
    }
   ],
   "source": [
    "cylind.grad(U)"
   ]
  },
  {
   "cell_type": "markdown",
   "id": "ebf96c73",
   "metadata": {},
   "source": [
    "### Vector $\\vec{u}$ dot the grad of $\\vec{u}$:\n",
    "\n",
    "$$\n",
    "\\begin{aligned}\n",
    "\\vec{u} \\cdot \\nabla \\vec{u} &= \\left[U_r \\frac{\\partial U_r}{\\partial r}+U_\\theta\\left(\\frac{1}{r} \\frac{\\partial U_r}{\\partial \\theta}-\\frac{U_\\theta}{r}\\right)+U_z \\frac{\\partial U_r}{\\partial z}\\right] \\hat{e}_r \\\\\n",
    "        &+\\left[U_r \\frac{\\partial U_\\theta}{\\partial r}+U_\\theta\\left(\\frac{1}{r} \\frac{\\partial U_\\theta}{\\partial \\theta}+\\frac{U_r}{r}\\right)+U_z \\frac{\\partial U_\\theta}{\\partial z}\\right] \\hat{e}_\\theta \\\\\n",
    "        &+\\left[U_r \\frac{\\partial U_z}{\\partial r}+U_\\theta \\frac{1}{r} \\frac{\\partial U_z}{\\partial \\theta}+U_z \\frac{\\partial U_z}{\\partial z}\\right] \\hat{e}_z\n",
    "\\end{aligned}\n",
    "$$ "
   ]
  },
  {
   "cell_type": "code",
   "execution_count": 6,
   "id": "fb12d3f7",
   "metadata": {},
   "outputs": [
    {
     "data": {
      "text/latex": [
       "$\\displaystyle \\left[ \\frac{r \\operatorname{U_{r}}{\\left(r,\\theta,z \\right)} \\frac{\\partial}{\\partial r} \\operatorname{U_{r}}{\\left(r,\\theta,z \\right)} + r \\operatorname{U_{z}}{\\left(r,\\theta,z \\right)} \\frac{\\partial}{\\partial z} \\operatorname{U_{r}}{\\left(r,\\theta,z \\right)} - \\left(\\operatorname{U_{\\theta}}{\\left(r,\\theta,z \\right)} - \\frac{\\partial}{\\partial \\theta} \\operatorname{U_{r}}{\\left(r,\\theta,z \\right)}\\right) \\operatorname{U_{\\theta}}{\\left(r,\\theta,z \\right)}}{r}, \\  \\frac{r \\operatorname{U_{r}}{\\left(r,\\theta,z \\right)} \\frac{\\partial}{\\partial r} \\operatorname{U_{\\theta}}{\\left(r,\\theta,z \\right)} + r \\operatorname{U_{z}}{\\left(r,\\theta,z \\right)} \\frac{\\partial}{\\partial z} \\operatorname{U_{\\theta}}{\\left(r,\\theta,z \\right)} + \\left(\\operatorname{U_{r}}{\\left(r,\\theta,z \\right)} + \\frac{\\partial}{\\partial \\theta} \\operatorname{U_{\\theta}}{\\left(r,\\theta,z \\right)}\\right) \\operatorname{U_{\\theta}}{\\left(r,\\theta,z \\right)}}{r}, \\  \\operatorname{U_{r}}{\\left(r,\\theta,z \\right)} \\frac{\\partial}{\\partial r} \\operatorname{U_{z}}{\\left(r,\\theta,z \\right)} + \\operatorname{U_{z}}{\\left(r,\\theta,z \\right)} \\frac{\\partial}{\\partial z} \\operatorname{U_{z}}{\\left(r,\\theta,z \\right)} + \\frac{\\operatorname{U_{\\theta}}{\\left(r,\\theta,z \\right)} \\frac{\\partial}{\\partial \\theta} \\operatorname{U_{z}}{\\left(r,\\theta,z \\right)}}{r}\\right]$"
      ],
      "text/plain": [
       "⎡              ∂                                ∂                 ⎛                  ∂              ⎞ \n",
       "⎢r⋅Uᵣ(r, θ, z)⋅──(Uᵣ(r, θ, z)) + r⋅U_z(r, θ, z)⋅──(Uᵣ(r, θ, z)) - ⎜Uₜₕₑₜₐ(r, θ, z) - ──(Uᵣ(r, θ, z))⎟⋅\n",
       "⎢              ∂r                               ∂z                ⎝                  ∂θ             ⎠ \n",
       "⎢─────────────────────────────────────────────────────────────────────────────────────────────────────\n",
       "⎣                                                         r                                           \n",
       "\n",
       "                               ∂                                    ∂                     ⎛           \n",
       "Uₜₕₑₜₐ(r, θ, z)  r⋅Uᵣ(r, θ, z)⋅──(Uₜₕₑₜₐ(r, θ, z)) + r⋅U_z(r, θ, z)⋅──(Uₜₕₑₜₐ(r, θ, z)) + ⎜Uᵣ(r, θ, z)\n",
       "                               ∂r                                   ∂z                    ⎝           \n",
       "───────────────, ─────────────────────────────────────────────────────────────────────────────────────\n",
       "                                                                              r                       \n",
       "\n",
       "   ∂                  ⎞                                                                               \n",
       " + ──(Uₜₕₑₜₐ(r, θ, z))⎟⋅Uₜₕₑₜₐ(r, θ, z)                                                               \n",
       "   ∂θ                 ⎠                              ∂                               ∂                \n",
       "───────────────────────────────────────, Uᵣ(r, θ, z)⋅──(U_z(r, θ, z)) + U_z(r, θ, z)⋅──(U_z(r, θ, z)) \n",
       "                                                     ∂r                              ∂z               \n",
       "\n",
       "                  ∂               ⎤\n",
       "  Uₜₕₑₜₐ(r, θ, z)⋅──(U_z(r, θ, z))⎥\n",
       "                  ∂θ              ⎥\n",
       "+ ────────────────────────────────⎥\n",
       "                 r                ⎦"
      ]
     },
     "execution_count": 6,
     "metadata": {},
     "output_type": "execute_result"
    }
   ],
   "source": [
    "cylind.dot(U, cylind.grad(U))"
   ]
  },
  {
   "cell_type": "markdown",
   "id": "8f1479e3",
   "metadata": {},
   "source": [
    "### curl of vector $\\vec{u}$:\n",
    "$$\n",
    "\\begin{aligned}\n",
    "\\nabla \\times \\vec{u} &= \\frac{1}{h_i} \\sum_{j=1}^3\\left(\\frac{1}{h_j} \\frac{\\partial h_i}{\\partial x_j} \\hat{e}_j\\right) \\times \\hat{e}_i \\\\\n",
    "            &= \\left( \\frac{1}{r} \\frac{\\partial U_z}{\\partial \\theta} - \\frac{\\partial U_\\theta}{\\partial z} \\right)\\hat{e}_r + \\left( \\frac{\\partial U_r}{\\partial z} - \\frac{\\partial U_z}{\\partial r}\\right) \\hat{e}_\\theta + \\left[ \\frac{1}{r}\\frac{\\partial}{\\partial r} (rU_\\theta) - \\frac{1}{r} \\frac{\\partial U_r}{\\partial \\theta} \\right] \\hat{e}_z \\\\  %%%%\n",
    "\\end{aligned}\n",
    "$$"
   ]
  },
  {
   "cell_type": "code",
   "execution_count": 7,
   "id": "55500aef",
   "metadata": {},
   "outputs": [
    {
     "data": {
      "text/latex": [
       "$\\displaystyle \\left[ - \\frac{\\partial}{\\partial z} \\operatorname{U_{\\theta}}{\\left(r,\\theta,z \\right)} + \\frac{\\frac{\\partial}{\\partial \\theta} \\operatorname{U_{z}}{\\left(r,\\theta,z \\right)}}{r}, \\  \\frac{\\partial}{\\partial z} \\operatorname{U_{r}}{\\left(r,\\theta,z \\right)} - \\frac{\\partial}{\\partial r} \\operatorname{U_{z}}{\\left(r,\\theta,z \\right)}, \\  \\frac{r \\frac{\\partial}{\\partial r} \\operatorname{U_{\\theta}}{\\left(r,\\theta,z \\right)} + \\operatorname{U_{\\theta}}{\\left(r,\\theta,z \\right)} - \\frac{\\partial}{\\partial \\theta} \\operatorname{U_{r}}{\\left(r,\\theta,z \\right)}}{r}\\right]$"
      ],
      "text/plain": [
       "⎡                        ∂                                                       ∂                    \n",
       "⎢                        ──(U_z(r, θ, z))                                      r⋅──(Uₜₕₑₜₐ(r, θ, z)) +\n",
       "⎢  ∂                     ∂θ                ∂                 ∂                   ∂r                   \n",
       "⎢- ──(Uₜₕₑₜₐ(r, θ, z)) + ────────────────, ──(Uᵣ(r, θ, z)) - ──(U_z(r, θ, z)), ───────────────────────\n",
       "⎣  ∂z                           r          ∂z                ∂r                                       \n",
       "\n",
       "                   ∂              ⎤\n",
       " Uₜₕₑₜₐ(r, θ, z) - ──(Uᵣ(r, θ, z))⎥\n",
       "                   ∂θ             ⎥\n",
       "──────────────────────────────────⎥\n",
       "     r                            ⎦"
      ]
     },
     "execution_count": 7,
     "metadata": {},
     "output_type": "execute_result"
    }
   ],
   "source": [
    "cylind.curl(U)"
   ]
  },
  {
   "cell_type": "markdown",
   "id": "b3dd3a26",
   "metadata": {},
   "source": [
    "### Divergence of the tensor $\\stackrel{\\leftrightarrow}{T}$\n",
    "\n",
    "$$\n",
    "\\begin{aligned}\n",
    "\\nabla \\cdot \\stackrel{\\leftrightarrow}{T}=& {\\left[\\frac{1}{r} \\frac{\\partial}{\\partial r}\\left(r T_{r r}\\right)+\\frac{1}{r} \\frac{\\partial T_{\\theta r}}{\\partial \\theta}+\\frac{\\partial T_{z r}}{\\partial z}-\\frac{T_{\\theta \\theta}}{r}\\right] \\hat{e}_r } \\\\\n",
    "        &\\quad +\\left[\\frac{1}{r^2} \\frac{\\partial}{\\partial r}\\left(r^2 T_{r \\theta}\\right)+\\frac{1}{r} \\frac{\\partial T_{\\theta \\theta}}{\\partial \\theta}+\\frac{\\partial T_{z \\theta}}{\\partial z}-\\frac{T_{r \\theta}-T_{\\theta r}}{r}\\right] \\hat{e}_\\theta \\\\\n",
    "        &\\quad +\\left[\\frac{1}{r} \\frac{\\partial}{\\partial r}\\left(r T_{r z}\\right)+\\frac{1}{r} \\frac{\\partial T_{\\theta z}}{\\partial \\theta}+\\frac{\\partial T_{z z}}{\\partial z}\\right] \\hat{e}_z\n",
    "\\end{aligned}\n",
    "$$"
   ]
  },
  {
   "cell_type": "code",
   "execution_count": 8,
   "id": "01a9f3ee",
   "metadata": {},
   "outputs": [
    {
     "data": {
      "text/latex": [
       "$\\displaystyle \\left[ \\frac{\\partial}{\\partial r} \\operatorname{T_{rr}}{\\left(r,\\theta,z \\right)} + \\frac{\\partial}{\\partial z} \\operatorname{T_{zr}}{\\left(r,\\theta,z \\right)} + \\frac{\\operatorname{T_{rr}}{\\left(r,\\theta,z \\right)}}{r} - \\frac{\\operatorname{T_{tt}}{\\left(r,\\theta,z \\right)}}{r} + \\frac{\\frac{\\partial}{\\partial \\theta} \\operatorname{T_{tr}}{\\left(r,\\theta,z \\right)}}{r}, \\  \\frac{\\partial}{\\partial r} \\operatorname{T_{rt}}{\\left(r,\\theta,z \\right)} + \\frac{\\partial}{\\partial z} \\operatorname{T_{zt}}{\\left(r,\\theta,z \\right)} + \\frac{\\operatorname{T_{rt}}{\\left(r,\\theta,z \\right)}}{r} + \\frac{\\operatorname{T_{tr}}{\\left(r,\\theta,z \\right)}}{r} + \\frac{\\frac{\\partial}{\\partial \\theta} \\operatorname{T_{tt}}{\\left(r,\\theta,z \\right)}}{r}, \\  \\frac{\\partial}{\\partial r} \\operatorname{T_{rz}}{\\left(r,\\theta,z \\right)} + \\frac{\\partial}{\\partial z} \\operatorname{T_{zz}}{\\left(r,\\theta,z \\right)} + \\frac{\\operatorname{T_{rz}}{\\left(r,\\theta,z \\right)}}{r} + \\frac{\\frac{\\partial}{\\partial \\theta} \\operatorname{T_{tz}}{\\left(r,\\theta,z \\right)}}{r}\\right]$"
      ],
      "text/plain": [
       "⎡                                                                                ∂                    \n",
       "⎢                                                                                ──(T_{tr}(r, θ, z))  \n",
       "⎢∂                     ∂                     T_{rr}(r, θ, z)   T_{tt}(r, θ, z)   ∂θ                   \n",
       "⎢──(T_{rr}(r, θ, z)) + ──(T_{zr}(r, θ, z)) + ─────────────── - ─────────────── + ───────────────────, \n",
       "⎣∂r                    ∂z                           r                 r                   r           \n",
       "\n",
       "                                                                                ∂                     \n",
       "                                                                                ──(T_{tt}(r, θ, z))   \n",
       "∂                     ∂                     T_{rt}(r, θ, z)   T_{tr}(r, θ, z)   ∂θ                   ∂\n",
       "──(T_{rt}(r, θ, z)) + ──(T_{zt}(r, θ, z)) + ─────────────── + ─────────────── + ───────────────────, ─\n",
       "∂r                    ∂z                           r                 r                   r           ∂\n",
       "\n",
       "                                                             ∂                  ⎤\n",
       "                                                             ──(T_{tz}(r, θ, z))⎥\n",
       "                     ∂                     T_{rz}(r, θ, z)   ∂θ                 ⎥\n",
       "─(T_{rz}(r, θ, z)) + ──(T_{zz}(r, θ, z)) + ─────────────── + ───────────────────⎥\n",
       "r                    ∂z                           r                   r         ⎦"
      ]
     },
     "execution_count": 8,
     "metadata": {},
     "output_type": "execute_result"
    }
   ],
   "source": [
    "cylind.div(T)"
   ]
  }
 ],
 "metadata": {
  "kernelspec": {
   "display_name": "Python 3 (ipykernel)",
   "language": "python",
   "name": "python3"
  },
  "language_info": {
   "codemirror_mode": {
    "name": "ipython",
    "version": 3
   },
   "file_extension": ".py",
   "mimetype": "text/x-python",
   "name": "python",
   "nbconvert_exporter": "python",
   "pygments_lexer": "ipython3",
   "version": "3.9.7"
  }
 },
 "nbformat": 4,
 "nbformat_minor": 5
}
